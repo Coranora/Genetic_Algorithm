{
 "cells": [
  {
   "cell_type": "code",
   "execution_count": 793,
   "metadata": {},
   "outputs": [],
   "source": [
    "import numpy as np\n",
    "import pandas as pd\n",
    "import os\n",
    "import re\n",
    "import random\n",
    "import itertools\n",
    "import matplotlib.pyplot as plt\n",
    "import math"
   ]
  },
  {
   "cell_type": "code",
   "execution_count": 794,
   "metadata": {},
   "outputs": [],
   "source": [
    "indicator=1\n",
    "default='yes'"
   ]
  },
  {
   "cell_type": "code",
   "execution_count": 798,
   "metadata": {},
   "outputs": [
    {
     "name": "stdout",
     "output_type": "stream",
     "text": [
      "Would you like to use default settings? (yes/no): yes\n"
     ]
    }
   ],
   "source": [
    "default=input(\"Would you like to use default settings? (yes/no): \")\n",
    "if default=='yes':\n",
    "    size=10\n",
    "    mut_rate=2\n",
    "    cut=math.floor(size/2)\n",
    "    iter_num=3000\n",
    "    conv_crit=150\n",
    "else:\n",
    "    while(True):\n",
    "        indicator=int(input(\"Where Will salesman start his/her trip?\\n 1) From (x=0,y=0)?\\n 2) From one of the cities?\\n Enter 1 or 2: \"))\n",
    "        if indicator==1 or indicator==2:\n",
    "            break\n",
    "        else:\n",
    "            print('\\nInvalid Input!!!\\n')\n",
    "\n",
    "    size=int(input(\"Enter number of cities (int): \"))\n",
    "    cut=int(input(\"Enter number of cities which cross-over is applied to (less than size)(int): \"))\n",
    "    mut_rate=int(input(\"Suppose mutation rate is [1/x]. Enter x (int): \"))\n",
    "    iter_num=int(input(\"Enter the number of iteration (int): \"))\n",
    "    conv_crit=int(input(\"Convergence criteria determines how many steps the iteration output should stay unchanged to stop?\\nEnter the convergence criteria (less than number of iteration)(int): \"))"
   ]
  },
  {
   "cell_type": "code",
   "execution_count": 771,
   "metadata": {},
   "outputs": [],
   "source": [
    "x = [random.randrange(0, 100, 1) for i in range(size)]\n",
    "y = [random.randrange(0, 100, 1) for i in range(size)]"
   ]
  },
  {
   "cell_type": "code",
   "execution_count": 772,
   "metadata": {},
   "outputs": [],
   "source": [
    "Columns=[i for i in range(size)]"
   ]
  },
  {
   "cell_type": "code",
   "execution_count": 773,
   "metadata": {},
   "outputs": [
    {
     "name": "stdout",
     "output_type": "stream",
     "text": [
      "x:  [69, 61, 94, 66, 52, 19, 64, 42, 2, 11]\n",
      "y:  [20, 46, 0, 18, 19, 10, 8, 89, 42, 46]\n"
     ]
    }
   ],
   "source": [
    "print('x: ',x)\n",
    "print('y: ',y)"
   ]
  },
  {
   "cell_type": "code",
   "execution_count": 774,
   "metadata": {},
   "outputs": [
    {
     "data": {
      "image/png": "[encoded data removed]",
      "text/plain": [
       "<Figure size 576x432 with 1 Axes>"
      ]
     },
     "metadata": {
      "needs_background": "light"
     },
     "output_type": "display_data"
    }
   ],
   "source": [
    "fig, ax = plt.subplots(figsize=(8, 6))\n",
    "ax.scatter(x, y,marker='x')\n",
    "\n",
    "for i, txt in enumerate(Columns):\n",
    "    ax.annotate(txt, (x[i]+0.5, y[i]+1.5), size=11)"
   ]
  },
  {
   "cell_type": "code",
   "execution_count": 775,
   "metadata": {},
   "outputs": [],
   "source": [
    "r1=[]\n",
    "r2=[]\n",
    "for i in range(len(x)):\n",
    "    for j in range(len(x)):\n",
    "        if j==i:\n",
    "            if indicator==1:\n",
    "                r1.append((x[j]**2+y[j]**2)**(1/2))\n",
    "            if indicator==2:\n",
    "                r1.append(0)\n",
    "        else:\n",
    "            x_del=abs(x[i]-x[j])\n",
    "            y_del=abs(y[i]-y[j])\n",
    "            r1.append((x_del**2+y_del**2)**(1/2))\n",
    "    r2.append(r1)\n",
    "    r1=[]"
   ]
  },
  {
   "cell_type": "code",
   "execution_count": 776,
   "metadata": {},
   "outputs": [],
   "source": [
    "df = pd.DataFrame(r2)"
   ]
  },
  {
   "cell_type": "code",
   "execution_count": 777,
   "metadata": {},
   "outputs": [
    {
     "data": {
      "text/html": [
       "<div>\n",
       "<style scoped>\n",
       "    .dataframe tbody tr th:only-of-type {\n",
       "        vertical-align: middle;\n",
       "    }\n",
       "\n",
       "    .dataframe tbody tr th {\n",
       "        vertical-align: top;\n",
       "    }\n",
       "\n",
       "    .dataframe thead th {\n",
       "        text-align: right;\n",
       "    }\n",
       "</style>\n",
       "<table border=\"1\" class=\"dataframe\">\n",
       "  <thead>\n",
       "    <tr style=\"text-align: right;\">\n",
       "      <th></th>\n",
       "      <th>0</th>\n",
       "      <th>1</th>\n",
       "      <th>2</th>\n",
       "      <th>3</th>\n",
       "      <th>4</th>\n",
       "      <th>5</th>\n",
       "      <th>6</th>\n",
       "      <th>7</th>\n",
       "      <th>8</th>\n",
       "      <th>9</th>\n",
       "    </tr>\n",
       "  </thead>\n",
       "  <tbody>\n",
       "    <tr>\n",
       "      <th>0</th>\n",
       "      <td>71.840100</td>\n",
       "      <td>27.202941</td>\n",
       "      <td>32.015621</td>\n",
       "      <td>3.605551</td>\n",
       "      <td>17.029386</td>\n",
       "      <td>50.990195</td>\n",
       "      <td>13.000000</td>\n",
       "      <td>74.094534</td>\n",
       "      <td>70.519501</td>\n",
       "      <td>63.560994</td>\n",
       "    </tr>\n",
       "    <tr>\n",
       "      <th>1</th>\n",
       "      <td>27.202941</td>\n",
       "      <td>76.400262</td>\n",
       "      <td>56.612719</td>\n",
       "      <td>28.442925</td>\n",
       "      <td>28.460499</td>\n",
       "      <td>55.317267</td>\n",
       "      <td>38.118237</td>\n",
       "      <td>47.010637</td>\n",
       "      <td>59.135438</td>\n",
       "      <td>50.000000</td>\n",
       "    </tr>\n",
       "    <tr>\n",
       "      <th>2</th>\n",
       "      <td>32.015621</td>\n",
       "      <td>56.612719</td>\n",
       "      <td>94.000000</td>\n",
       "      <td>33.286634</td>\n",
       "      <td>46.097722</td>\n",
       "      <td>75.663730</td>\n",
       "      <td>31.048349</td>\n",
       "      <td>103.077641</td>\n",
       "      <td>101.133575</td>\n",
       "      <td>94.894678</td>\n",
       "    </tr>\n",
       "    <tr>\n",
       "      <th>3</th>\n",
       "      <td>3.605551</td>\n",
       "      <td>28.442925</td>\n",
       "      <td>33.286634</td>\n",
       "      <td>68.410526</td>\n",
       "      <td>14.035669</td>\n",
       "      <td>47.675990</td>\n",
       "      <td>10.198039</td>\n",
       "      <td>74.946648</td>\n",
       "      <td>68.352030</td>\n",
       "      <td>61.717096</td>\n",
       "    </tr>\n",
       "    <tr>\n",
       "      <th>4</th>\n",
       "      <td>17.029386</td>\n",
       "      <td>28.460499</td>\n",
       "      <td>46.097722</td>\n",
       "      <td>14.035669</td>\n",
       "      <td>55.362442</td>\n",
       "      <td>34.205263</td>\n",
       "      <td>16.278821</td>\n",
       "      <td>70.710678</td>\n",
       "      <td>55.036352</td>\n",
       "      <td>49.091751</td>\n",
       "    </tr>\n",
       "    <tr>\n",
       "      <th>5</th>\n",
       "      <td>50.990195</td>\n",
       "      <td>55.317267</td>\n",
       "      <td>75.663730</td>\n",
       "      <td>47.675990</td>\n",
       "      <td>34.205263</td>\n",
       "      <td>21.470911</td>\n",
       "      <td>45.044423</td>\n",
       "      <td>82.280010</td>\n",
       "      <td>36.235342</td>\n",
       "      <td>36.878178</td>\n",
       "    </tr>\n",
       "    <tr>\n",
       "      <th>6</th>\n",
       "      <td>13.000000</td>\n",
       "      <td>38.118237</td>\n",
       "      <td>31.048349</td>\n",
       "      <td>10.198039</td>\n",
       "      <td>16.278821</td>\n",
       "      <td>45.044423</td>\n",
       "      <td>64.498062</td>\n",
       "      <td>83.934498</td>\n",
       "      <td>70.710678</td>\n",
       "      <td>65.215029</td>\n",
       "    </tr>\n",
       "    <tr>\n",
       "      <th>7</th>\n",
       "      <td>74.094534</td>\n",
       "      <td>47.010637</td>\n",
       "      <td>103.077641</td>\n",
       "      <td>74.946648</td>\n",
       "      <td>70.710678</td>\n",
       "      <td>82.280010</td>\n",
       "      <td>83.934498</td>\n",
       "      <td>98.412398</td>\n",
       "      <td>61.717096</td>\n",
       "      <td>53.009433</td>\n",
       "    </tr>\n",
       "    <tr>\n",
       "      <th>8</th>\n",
       "      <td>70.519501</td>\n",
       "      <td>59.135438</td>\n",
       "      <td>101.133575</td>\n",
       "      <td>68.352030</td>\n",
       "      <td>55.036352</td>\n",
       "      <td>36.235342</td>\n",
       "      <td>70.710678</td>\n",
       "      <td>61.717096</td>\n",
       "      <td>42.047592</td>\n",
       "      <td>9.848858</td>\n",
       "    </tr>\n",
       "    <tr>\n",
       "      <th>9</th>\n",
       "      <td>63.560994</td>\n",
       "      <td>50.000000</td>\n",
       "      <td>94.894678</td>\n",
       "      <td>61.717096</td>\n",
       "      <td>49.091751</td>\n",
       "      <td>36.878178</td>\n",
       "      <td>65.215029</td>\n",
       "      <td>53.009433</td>\n",
       "      <td>9.848858</td>\n",
       "      <td>47.296934</td>\n",
       "    </tr>\n",
       "  </tbody>\n",
       "</table>\n",
       "</div>"
      ],
      "text/plain": [
       "           0          1           2          3          4          5  \\\n",
       "0  71.840100  27.202941   32.015621   3.605551  17.029386  50.990195   \n",
       "1  27.202941  76.400262   56.612719  28.442925  28.460499  55.317267   \n",
       "2  32.015621  56.612719   94.000000  33.286634  46.097722  75.663730   \n",
       "3   3.605551  28.442925   33.286634  68.410526  14.035669  47.675990   \n",
       "4  17.029386  28.460499   46.097722  14.035669  55.362442  34.205263   \n",
       "5  50.990195  55.317267   75.663730  47.675990  34.205263  21.470911   \n",
       "6  13.000000  38.118237   31.048349  10.198039  16.278821  45.044423   \n",
       "7  74.094534  47.010637  103.077641  74.946648  70.710678  82.280010   \n",
       "8  70.519501  59.135438  101.133575  68.352030  55.036352  36.235342   \n",
       "9  63.560994  50.000000   94.894678  61.717096  49.091751  36.878178   \n",
       "\n",
       "           6           7           8          9  \n",
       "0  13.000000   74.094534   70.519501  63.560994  \n",
       "1  38.118237   47.010637   59.135438  50.000000  \n",
       "2  31.048349  103.077641  101.133575  94.894678  \n",
       "3  10.198039   74.946648   68.352030  61.717096  \n",
       "4  16.278821   70.710678   55.036352  49.091751  \n",
       "5  45.044423   82.280010   36.235342  36.878178  \n",
       "6  64.498062   83.934498   70.710678  65.215029  \n",
       "7  83.934498   98.412398   61.717096  53.009433  \n",
       "8  70.710678   61.717096   42.047592   9.848858  \n",
       "9  65.215029   53.009433    9.848858  47.296934  "
      ]
     },
     "execution_count": 777,
     "metadata": {},
     "output_type": "execute_result"
    }
   ],
   "source": [
    "df"
   ]
  },
  {
   "cell_type": "code",
   "execution_count": 778,
   "metadata": {},
   "outputs": [],
   "source": [
    "path_cluster=[]\n",
    "for i in range(1000):\n",
    "    path_cluster.append(random.sample(Columns, len(Columns)))\n",
    "random.shuffle(path_cluster)  \n",
    "#path_cluster"
   ]
  },
  {
   "cell_type": "raw",
   "metadata": {},
   "source": [
    "path_all_list=[]\n",
    "for i in list(itertools.permutations(Columns, size)):\n",
    "    path_all_list.append(i)\n",
    "random.shuffle(path_all_list)"
   ]
  },
  {
   "cell_type": "raw",
   "metadata": {
    "scrolled": true
   },
   "source": [
    "path_cluster=[]\n",
    "for i in range(1000):\n",
    "    path_cluster.append(path_all_list[i])  \n",
    "#path_cluster"
   ]
  },
  {
   "cell_type": "code",
   "execution_count": 779,
   "metadata": {},
   "outputs": [],
   "source": [
    "def Dist_calculator(path_list):   \n",
    "    dists1=[]\n",
    "    dists2=[]\n",
    "    dists=[]\n",
    "    for path in path_list:\n",
    "        for i in range(len(path)):\n",
    "            if i==0:\n",
    "                #print(df[path[i]][path[i]])\n",
    "                dists1.append(df[path[i]][path[i]])\n",
    "            else:\n",
    "                #print(df[path[i]][path[i-1]])\n",
    "                dists1.append(df[path[i]][path[i-1]])\n",
    "        dists2.append(dists1)\n",
    "        dists1=[]\n",
    "        #print('--------')\n",
    "\n",
    "    for i in range(len(dists2)):\n",
    "        dists.append(sum(dists2[i]))\n",
    "    \n",
    "    df_path = pd.DataFrame(path_list)\n",
    "    df_path['Sum'] = dists\n",
    "    df_path=df_path.sort_values(by=['Sum'],ascending=True)\n",
    "    df_path=df_path.reset_index(drop=True)\n",
    "    return(df_path)"
   ]
  },
  {
   "cell_type": "code",
   "execution_count": 784,
   "metadata": {},
   "outputs": [],
   "source": [
    "def Cross_over(df_path):\n",
    "    new_breed=[]\n",
    "    df_path_2=df_path.copy()\n",
    "    df_path_2=df_path_2.drop(['Sum'], axis=1)\n",
    "    df_list=df_path_2.values.tolist()\n",
    "    #cut=math.floor(size/2)\n",
    "    #cut=3\n",
    "    for i in range(0,round(len(df_list)/2)):\n",
    "        if (i)==(len(df_list)-1):\n",
    "            continue\n",
    "        else:\n",
    "            A=df_list[i][:cut]\n",
    "            B=df_list[i][cut:]\n",
    "            C=df_list[i+1][:cut]\n",
    "            D=df_list[i+1][cut:]\n",
    "            \n",
    "            B_new=[]\n",
    "            B_ext=[]\n",
    "            \n",
    "            D_new=[]\n",
    "            D_ext=[]\n",
    "            \n",
    "            \n",
    "            ind=0\n",
    "            ind_B_list=[]\n",
    "            for j in B:\n",
    "                if j not in C:\n",
    "                    B_new.append(j)\n",
    "                else:\n",
    "                    B_new.append('X')\n",
    "                    ind_B_list.append(ind)\n",
    "                ind+=1\n",
    "            B_ext=list(set(df_list[i])-set(C+B_new))\n",
    "            random.shuffle(B_ext)\n",
    "            \n",
    "            l=0\n",
    "            for k in ind_B_list:\n",
    "                B_new[k]=B_ext[l]\n",
    "                l+=1\n",
    "            \n",
    "            ind=0\n",
    "            ind_D_list=[]\n",
    "            for j in D:\n",
    "                if j not in A:\n",
    "                    D_new.append(j)\n",
    "                else:\n",
    "                    D_new.append('X')\n",
    "                    ind_D_list.append(ind)\n",
    "                ind+=1\n",
    "            D_ext=list(set(df_list[i])-set(A+D_new))\n",
    "            random.shuffle(D_ext)\n",
    "            \n",
    "            l=0\n",
    "            for k in ind_D_list:\n",
    "                D_new[k]=D_ext[l]\n",
    "                l+=1\n",
    "            \n",
    "            new_breed.append(C+B_new)\n",
    "            new_breed.append(A+D_new)\n",
    "    return(new_breed)  "
   ]
  },
  {
   "cell_type": "code",
   "execution_count": 785,
   "metadata": {},
   "outputs": [],
   "source": [
    "def mutation(path_list):\n",
    "    path_list_mut=[]\n",
    "    for path in path_list:\n",
    "        path2=path.copy()\n",
    "        ind=random.randrange(0, mut_rate)\n",
    "        if ind==1:\n",
    "            change_list=random.sample(range(0, size), 2)\n",
    "            a=path2[change_list[0]]\n",
    "            b=path2[change_list[1]]\n",
    "            path2[change_list[0]]=b\n",
    "            path2[change_list[1]]=a\n",
    "            path_list_mut.append(path2)\n",
    "        else:\n",
    "            path_list_mut.append(path2)\n",
    "    return path_list_mut  "
   ]
  },
  {
   "cell_type": "code",
   "execution_count": 786,
   "metadata": {
    "scrolled": true
   },
   "outputs": [],
   "source": [
    "path_cluster_copy=path_cluster.copy()\n",
    "#path_cluster_copy"
   ]
  },
  {
   "cell_type": "code",
   "execution_count": 787,
   "metadata": {},
   "outputs": [],
   "source": [
    "df_path=Dist_calculator(path_cluster_copy)"
   ]
  },
  {
   "cell_type": "code",
   "execution_count": 788,
   "metadata": {
    "scrolled": true
   },
   "outputs": [
    {
     "name": "stdout",
     "output_type": "stream",
     "text": [
      "1. 320.1774635302017\n",
      "2. 320.1774635302017\n",
      "3. 330.6348706133559\n",
      "4. 311.8141997431685\n",
      "5. 311.8141997431685\n",
      "6. 293.01452860547795\n",
      "7. 263.98021337299974\n",
      "8. 284.350699240246\n",
      "9. 280.97957878700004\n",
      "10. 257.72524889345146\n",
      "11. 257.72524889345146\n",
      "12. 262.2066852035994\n",
      "13. 267.484210802991\n",
      "14. 265.28500843981726\n",
      "15. 258.1337114637627\n",
      "16. 258.1337114637627\n",
      "17. 258.1337114637627\n",
      "18. 263.98021337299974\n",
      "19. 263.98021337299974\n",
      "20. 263.98021337299974\n",
      "21. 263.98021337299974\n",
      "22. 263.98021337299974\n",
      "23. 259.74651156550664\n",
      "24. 262.2066852035994\n",
      "25. 259.74651156550664\n",
      "26. 257.91700543894524\n",
      "27. 257.72524889345146\n",
      "28. 257.72524889345146\n",
      "29. 257.72524889345146\n",
      "30. 257.72524889345146\n",
      "31. 257.72524889345146\n",
      "32. 257.72524889345146\n",
      "33. 257.72524889345146\n",
      "34. 257.72524889345146\n",
      "35. 257.72524889345146\n",
      "36. 257.72524889345146\n",
      "37. 257.72524889345146\n",
      "38. 257.91700543894524\n",
      "39. 257.91700543894524\n",
      "40. 257.72524889345146\n",
      "41. 257.72524889345146\n",
      "42. 257.72524889345146\n",
      "43. 257.72524889345146\n",
      "44. 257.72524889345146\n",
      "45. 257.72524889345146\n",
      "46. 257.72524889345146\n",
      "47. 257.72524889345146\n",
      "48. 257.72524889345146\n",
      "49. 257.72524889345146\n",
      "50. 257.72524889345146\n",
      "51. 257.72524889345146\n",
      "52. 257.72524889345146\n",
      "53. 257.72524889345146\n",
      "54. 257.72524889345146\n",
      "55. 257.72524889345146\n",
      "56. 257.72524889345146\n",
      "57. 257.72524889345146\n",
      "58. 257.72524889345146\n",
      "59. 257.72524889345146\n",
      "60. 257.72524889345146\n",
      "61. 257.72524889345146\n",
      "62. 257.72524889345146\n",
      "63. 257.72524889345146\n",
      "64. 257.72524889345146\n",
      "65. 257.72524889345146\n",
      "66. 257.72524889345146\n",
      "67. 257.72524889345146\n",
      "68. 257.72524889345146\n",
      "69. 257.72524889345146\n",
      "70. 257.72524889345146\n",
      "71. 257.72524889345146\n",
      "72. 257.72524889345146\n",
      "73. 257.72524889345146\n",
      "74. 257.72524889345146\n",
      "75. 257.72524889345146\n",
      "76. 257.72524889345146\n",
      "77. 257.72524889345146\n",
      "78. 257.72524889345146\n",
      "79. 257.72524889345146\n",
      "80. 257.72524889345146\n",
      "81. 257.72524889345146\n",
      "82. 257.72524889345146\n",
      "83. 257.72524889345146\n",
      "84. 257.72524889345146\n",
      "85. 257.72524889345146\n",
      "86. 257.72524889345146\n",
      "87. 257.72524889345146\n",
      "88. 257.72524889345146\n",
      "89. 257.72524889345146\n",
      "90. 257.72524889345146\n",
      "91. 257.72524889345146\n",
      "92. 257.72524889345146\n",
      "93. 257.72524889345146\n",
      "94. 257.72524889345146\n",
      "95. 257.72524889345146\n",
      "96. 257.72524889345146\n",
      "97. 257.72524889345146\n",
      "98. 257.72524889345146\n",
      "99. 257.72524889345146\n",
      "100. 257.72524889345146\n",
      "101. 257.72524889345146\n",
      "102. 257.72524889345146\n",
      "103. 257.72524889345146\n",
      "104. 257.72524889345146\n",
      "105. 257.72524889345146\n",
      "106. 257.72524889345146\n",
      "107. 257.72524889345146\n",
      "108. 257.72524889345146\n",
      "109. 257.72524889345146\n",
      "110. 257.72524889345146\n",
      "111. 257.72524889345146\n",
      "112. 257.72524889345146\n",
      "113. 257.72524889345146\n",
      "114. 257.72524889345146\n",
      "115. 257.72524889345146\n",
      "116. 257.72524889345146\n",
      "117. 257.72524889345146\n",
      "118. 257.72524889345146\n",
      "119. 257.72524889345146\n",
      "120. 257.72524889345146\n",
      "121. 257.72524889345146\n",
      "122. 257.72524889345146\n",
      "123. 257.72524889345146\n",
      "124. 257.72524889345146\n",
      "125. 257.72524889345146\n",
      "126. 257.72524889345146\n",
      "127. 257.72524889345146\n",
      "128. 257.72524889345146\n",
      "129. 257.72524889345146\n",
      "130. 257.72524889345146\n",
      "131. 257.72524889345146\n",
      "132. 257.72524889345146\n",
      "133. 257.72524889345146\n",
      "134. 257.72524889345146\n",
      "135. 257.72524889345146\n",
      "136. 257.72524889345146\n",
      "137. 257.72524889345146\n",
      "138. 257.72524889345146\n",
      "139. 257.72524889345146\n",
      "140. 257.72524889345146\n",
      "141. 257.72524889345146\n",
      "142. 257.72524889345146\n",
      "143. 257.72524889345146\n",
      "144. 257.72524889345146\n",
      "145. 257.72524889345146\n",
      "146. 257.72524889345146\n",
      "147. 257.72524889345146\n",
      "148. 257.72524889345146\n",
      "149. 257.72524889345146\n",
      "150. 257.72524889345146\n",
      "151. 257.72524889345146\n",
      "152. 257.72524889345146\n",
      "153. 257.72524889345146\n",
      "154. 257.72524889345146\n",
      "155. 257.72524889345146\n",
      "156. 257.72524889345146\n",
      "157. 257.72524889345146\n",
      "158. 257.72524889345146\n",
      "159. 257.72524889345146\n",
      "160. 257.72524889345146\n",
      "161. 257.72524889345146\n",
      "162. 257.72524889345146\n",
      "163. 257.72524889345146\n",
      "164. 257.72524889345146\n",
      "165. 257.72524889345146\n",
      "166. 257.72524889345146\n",
      "167. 257.72524889345146\n",
      "168. 257.72524889345146\n",
      "169. 257.72524889345146\n",
      "170. 257.72524889345146\n",
      "171. 257.72524889345146\n",
      "172. 257.72524889345146\n",
      "173. 257.72524889345146\n",
      "174. 257.72524889345146\n",
      "175. 257.72524889345146\n",
      "176. 257.72524889345146\n",
      "177. 257.72524889345146\n",
      "178. 257.72524889345146\n",
      "179. 257.72524889345146\n",
      "180. 257.72524889345146\n",
      "181. 257.72524889345146\n",
      "182. 257.72524889345146\n",
      "183. 257.72524889345146\n",
      "184. 257.72524889345146\n",
      "185. 257.72524889345146\n",
      "186. 257.72524889345146\n",
      "187. 257.72524889345146\n",
      "188. 257.72524889345146\n",
      "189. 257.72524889345146\n",
      "Converged!\n"
     ]
    }
   ],
   "source": [
    "Min_list=[]\n",
    "Mean_list=[]\n",
    "converged=0\n",
    "for i in range(iter_num):\n",
    "    path_cluster_copy=Cross_over(df_path) \n",
    "    path_cluster_copy=mutation(path_cluster_copy)\n",
    "    df_path=Dist_calculator(path_cluster_copy)\n",
    "    Min_list.append(df_path.Sum[0])\n",
    "    Mean_list.append(df_path['Sum'].mean())\n",
    "    if i>conv_crit:\n",
    "        if len(set(Min_list[-1*conv_crit:]))==1:\n",
    "           print(str(i+1)+'.',df_path.Sum[0])\n",
    "           converged=1       \n",
    "           break            \n",
    "    print(str(i+1)+'.',df_path.Sum[0])\n",
    "\n",
    "if converged==1:\n",
    "    print(\"Converged!\")\n",
    "else:\n",
    "    print(\"Not converged!\\nTry different settings...\")"
   ]
  },
  {
   "cell_type": "code",
   "execution_count": 789,
   "metadata": {},
   "outputs": [
    {
     "name": "stdout",
     "output_type": "stream",
     "text": [
      "Min:  257.72524889345146\n",
      "Cov:  257.72524889345146\n"
     ]
    }
   ],
   "source": [
    "print('Min: ',min(Min_list))\n",
    "print('Cov: ',Min_list[-1])"
   ]
  },
  {
   "cell_type": "code",
   "execution_count": 790,
   "metadata": {},
   "outputs": [
    {
     "data": {
      "text/plain": [
       "0        5.000000\n",
       "1        8.000000\n",
       "2        9.000000\n",
       "3        7.000000\n",
       "4        1.000000\n",
       "5        4.000000\n",
       "6        3.000000\n",
       "7        0.000000\n",
       "8        6.000000\n",
       "9        2.000000\n",
       "Sum    257.725249\n",
       "Name: 0, dtype: float64"
      ]
     },
     "execution_count": 790,
     "metadata": {},
     "output_type": "execute_result"
    }
   ],
   "source": [
    "df_path.iloc[0]"
   ]
  },
  {
   "cell_type": "code",
   "execution_count": 791,
   "metadata": {
    "scrolled": false
   },
   "outputs": [
    {
     "data": {
      "image/png": "[encoded data removed]",
      "text/plain": [
       "<Figure size 960x560 with 1 Axes>"
      ]
     },
     "metadata": {
      "needs_background": "light"
     },
     "output_type": "display_data"
    },
    {
     "name": "stdout",
     "output_type": "stream",
     "text": [
      "Min_value:  257.72524889345146\n"
     ]
    }
   ],
   "source": [
    "plt.figure(figsize=(12, 7), dpi=80)\n",
    "lmt=len(Min_list)\n",
    "x_list=[i for i in range(len(Min_list[:lmt]))]\n",
    "#plt.plot(x_list, Min_list[:lmt],'-o',markersize=4,linewidth=1.5)\n",
    "#plt.plot(x_list, Mean_list[:lmt],'-o',markersize=4,linewidth=1.5)\n",
    "plt.plot(x_list, Min_list[:lmt],linewidth=2)\n",
    "plt.plot(x_list, Mean_list[:lmt],linewidth=2)\n",
    "plt.legend(['Minimum','Mean'])\n",
    "plt.show()\n",
    "print('Min_value: ',min(Min_list))"
   ]
  },
  {
   "cell_type": "code",
   "execution_count": 792,
   "metadata": {},
   "outputs": [
    {
     "name": "stdout",
     "output_type": "stream",
     "text": [
      "[5, 8, 9, 7, 1, 4, 3, 0, 6, 2]\n",
      "Min:  257.72524889345146\n",
      "Cov:  257.72524889345146\n"
     ]
    },
    {
     "data": {
      "image/png": "[encoded data removed]",
      "text/plain": [
       "<Figure size 576x432 with 1 Axes>"
      ]
     },
     "metadata": {
      "needs_background": "light"
     },
     "output_type": "display_data"
    }
   ],
   "source": [
    "line=list(df_path.iloc[0])\n",
    "line_rev=[]\n",
    "for i in range(len(line)-1):\n",
    "    line_rev.append(int(line[i]))\n",
    "print(line_rev)\n",
    "\n",
    "x_line=[0]\n",
    "y_line=[0]\n",
    "for i in range(len(line_rev)):   \n",
    "    x_line.append(x[line_rev[i]])\n",
    "    y_line.append(y[line_rev[i]])\n",
    "    \n",
    "fig, ax = plt.subplots(figsize=(8, 6))\n",
    "ax.scatter(x, y,marker='x')\n",
    "ax.plot(x_line,y_line, color='purple',alpha=0.8)\n",
    "\n",
    "for i, txt in enumerate(Columns):\n",
    "    ax.annotate(txt, (x[i]+0.5, y[i]+1.5), size=11)\n",
    "print('Min: ',min(Min_list))\n",
    "print('Cov: ',Min_list[-1])"
   ]
  }
 ],
 "metadata": {
  "kernelspec": {
   "display_name": "Python 3",
   "language": "python",
   "name": "python3"
  },
  "language_info": {
   "codemirror_mode": {
    "name": "ipython",
    "version": 3
   },
   "file_extension": ".py",
   "mimetype": "text/x-python",
   "name": "python",
   "nbconvert_exporter": "python",
   "pygments_lexer": "ipython3",
   "version": "3.7.6"
  }
 },
 "nbformat": 4,
 "nbformat_minor": 4
}
